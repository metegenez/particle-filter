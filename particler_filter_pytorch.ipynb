{
 "cells": [
  {
   "cell_type": "code",
   "execution_count": 237,
   "metadata": {},
   "outputs": [],
   "source": [
    "import torch\n",
    "import numpy as np\n",
    "from matplotlib import pyplot as plt"
   ]
  },
  {
   "cell_type": "code",
   "execution_count": 247,
   "metadata": {},
   "outputs": [],
   "source": [
    "measurement_sigma = np.sqrt(0.5);\n",
    "process_noise = np.sqrt(0.1);\n",
    "sensor_locations = np.array([[0,0],[3000,3000]]);"
   ]
  },
  {
   "cell_type": "code",
   "execution_count": 49,
   "metadata": {},
   "outputs": [],
   "source": [
    "class bearing():\n",
    "    def __init__(self,sensor_no,bearing,time):\n",
    "        self.sensor_no = sensor_no #can be 0 or 1\n",
    "        self.sensor_location = np.array([[0,0],[3000,3000]])[sensor_no]\n",
    "        self.bearing = bearing\n",
    "        self.time = time\n",
    "        self.track_id = 0 #for multiple target evaluations"
   ]
  },
  {
   "cell_type": "code",
   "execution_count": 239,
   "metadata": {},
   "outputs": [
    {
     "name": "stdout",
     "output_type": "stream",
     "text": [
      "[-2.11309131]\n",
      "[4.53153894]\n"
     ]
    }
   ],
   "source": [
    "initial_positions = np.array([100,200])\n",
    "initial_velocities = np.array(5) #m/s\n",
    "initial_orientation = np.array([335])\n",
    "dx = initial_velocities * np.cos(np.deg2rad(90 - initial_orientation))\n",
    "dy = initial_velocities * np.sin(np.deg2rad(90 - initial_orientation))\n",
    "ts = 1\n",
    "print(dx)\n",
    "print(dy)\n",
    "\n"
   ]
  },
  {
   "cell_type": "code",
   "execution_count": 240,
   "metadata": {},
   "outputs": [],
   "source": [
    "A = lambda Ts: np.array([[1, 0, Ts, 0],[0, 1, 0, Ts], [0, 0, 1, 0],[0, 0, 0, 1]])\n",
    "B = lambda ts: np.concatenate(((ts**2)*0.5*np.eye(2), ts * np.eye(2)), axis = 0)\n",
    "aci = lambda konum, sensor_no: np.rad2deg(np.arctan2(konum[0] - sensor_locations[sensor_no][0], konum[1] - sensor_locations[sensor_no][1]))"
   ]
  },
  {
   "cell_type": "code",
   "execution_count": 201,
   "metadata": {},
   "outputs": [
    {
     "data": {
      "text/plain": [
       "-133.45184230102205"
      ]
     },
     "execution_count": 201,
     "metadata": {},
     "output_type": "execute_result"
    }
   ],
   "source": [
    "aci(konum,1)"
   ]
  },
  {
   "cell_type": "code",
   "execution_count": 248,
   "metadata": {},
   "outputs": [],
   "source": [
    "temp_time_array = np.linspace(0,100,100 / Ts)\n",
    "time_array = np.sort(np.concatenate((temp_time_array, temp_time_array + np.random.rand(1,100) * 1/2), axis=None))\n",
    "car_traj = [np.concatenate((initial_positions, dx, dy), axis=None)]\n",
    "bearings = [bearing(0,aci(car_traj[0],1),time_array[0])]\n",
    "for i in range(1,len(time_array)):\n",
    "    car_traj.append((np.matmul(A(time_array[i]-time_array[i-1]),car_traj[-1].T).T + np.matmul(B(time_array[i]-time_array[i-1]), np.random.rand(2,1)).T * process_noise)[0])\n",
    "coordinates = np.array(car_traj)[:,0:2]\n"
   ]
  },
  {
   "cell_type": "code",
   "execution_count": 250,
   "metadata": {},
   "outputs": [],
   "source": [
    "for i in range(1,len(car_traj)):\n",
    "    a = np.random.choice([False,True], p = [0.5,0.5])\n",
    "    if a:\n",
    "        bearings.append(bearing(0,aci(car_traj[i],0),time_array[i]))\n",
    "    else:\n",
    "        bearings.append(bearing(1,aci(car_traj[i],1),time_array[i])) \n",
    "        "
   ]
  },
  {
   "cell_type": "code",
   "execution_count": 258,
   "metadata": {},
   "outputs": [
    {
     "data": {
      "text/plain": [
       "16.859455307312068"
      ]
     },
     "execution_count": 258,
     "metadata": {},
     "output_type": "execute_result"
    }
   ],
   "source": [
    "bearings[34].bearing"
   ]
  },
  {
   "cell_type": "code",
   "execution_count": 249,
   "metadata": {},
   "outputs": [
    {
     "data": {
      "text/plain": [
       "<matplotlib.collections.PathCollection at 0x1bc5b275710>"
      ]
     },
     "execution_count": 249,
     "metadata": {},
     "output_type": "execute_result"
    },
    {
     "data": {
      "image/png": "[encoded data removed]",
      "text/plain": [
       "<Figure size 432x288 with 1 Axes>"
      ]
     },
     "metadata": {
      "needs_background": "light"
     },
     "output_type": "display_data"
    }
   ],
   "source": [
    "plt.scatter(coordinates[:,0],coordinates[:,1])\n",
    "plt.scatter(sensor_locations[0][0],sensor_locations[0][1], c = \"red\")\n",
    "plt.scatter(sensor_locations[1][0],sensor_locations[1][1], c = \"red\")"
   ]
  },
  {
   "cell_type": "code",
   "execution_count": 34,
   "metadata": {},
   "outputs": [],
   "source": [
    "temp_time_array = np.linspace(0,100,100 / Ts)"
   ]
  },
  {
   "cell_type": "code",
   "execution_count": 57,
   "metadata": {},
   "outputs": [],
   "source": [
    "def create_gaussian_particles(mean, std, N):\n",
    "    particles = torch.empty((N, 3))\n",
    "    particles[:, 0] = mean[0] + (torch.randn(N) * std[0])\n",
    "    particles[:, 1] = mean[1] + (torch.randn(N) * std[1])\n",
    "    particles[:, 2] = mean[2] + (torch.randn(N) * std[2])\n",
    "    particles[:, 2] %= 2 * np.pi\n",
    "    return particles"
   ]
  },
  {
   "cell_type": "code",
   "execution_count": 52,
   "metadata": {},
   "outputs": [
    {
     "data": {
      "text/plain": [
       "tensor(-2.8379)"
      ]
     },
     "execution_count": 52,
     "metadata": {},
     "output_type": "execute_result"
    }
   ],
   "source": [
    "torch.distributions.multivariate_normal.MultivariateNormal(particles[0, 0:2], covariance_matrix=torch.diag(torch.FloatTensor([1,1]))).log_prob(torch.FloatTensor([1,1]))"
   ]
  },
  {
   "cell_type": "code",
   "execution_count": 54,
   "metadata": {},
   "outputs": [],
   "source": [
    "def update(particles, weights, z, R, landmarks):\n",
    "    for i, landmark in enumerate(landmarks):\n",
    "        distance = torch.norm(particles[:, 0:2] - landmark, dim=1)\n",
    "        weigths *= torch.FloatTensor(10).pow(torch.distributions.multivariate_normal.MultivariateNormal(distance, covariance_matrix=R).log_prob(z[i]))\n",
    "\n",
    "    weights += torch.Tensor([1.e-300])     # avoid round-off to zero\n",
    "    weights /= sum(weights) # normalize"
   ]
  },
  {
   "cell_type": "code",
   "execution_count": 187,
   "metadata": {},
   "outputs": [],
   "source": [
    "def predict(particles, u, std, dt=torch.Tensor([1.])):\n",
    "    \"\"\" move according to control input u (heading change, velocity)\n",
    "    with noise Q (std heading change, std velocity)`\"\"\"\n",
    "\n",
    "    N = len(particles)\n",
    "    # update heading\n",
    "    particles[:, 2] += u[0] + (torch.randn(N) * std[0])\n",
    "    particles[:, 2] %= torch.Tensor([2 * np.pi])\n",
    "\n",
    "    # move in the (noisy) commanded direction\n",
    "    dist = (u[1] * dt) + (torch.randn(N) * std[1])\n",
    "    particles[:, 0] += torch.cos(particles[:, 2]) * dist\n",
    "    particles[:, 1] += torch.sin(particles[:, 2]) * dist\n",
    "    return particles"
   ]
  },
  {
   "cell_type": "code",
   "execution_count": 144,
   "metadata": {},
   "outputs": [],
   "source": [
    "def estimate(particles, weights):\n",
    "    \"\"\"returns mean and variance of the weighted particles\"\"\"\n",
    "\n",
    "    pos = particles[:, 0:2]\n",
    "    mean = torch.sum(torch.mul(pos,weights),dim=0)/torch.sum(weights)\n",
    "    var = torch.sum(torch.mul((pos - mean).pow(2),weights),dim=0)/torch.sum(weights)\n",
    "    return mean, var"
   ]
  },
  {
   "cell_type": "code",
   "execution_count": 229,
   "metadata": {},
   "outputs": [],
   "source": [
    "def neff(weights):\n",
    "    return 1. / torch.sum(torch.mul(weights,weights))"
   ]
  },
  {
   "cell_type": "code",
   "execution_count": 230,
   "metadata": {},
   "outputs": [
    {
     "data": {
      "text/plain": [
       "tensor(0.0005)"
      ]
     },
     "execution_count": 230,
     "metadata": {},
     "output_type": "execute_result"
    }
   ],
   "source": [
    "N = 30000\n",
    "particles = create_gaussian_particles([4,3,1],[1,2,1], N)\n",
    "weights = torch.ones(N,1)* 0.25\n",
    "estimate(particles, weights)\n",
    "neff(weights)"
   ]
  }
 ],
 "metadata": {
  "kernelspec": {
   "display_name": "Python 3",
   "language": "python",
   "name": "python3"
  },
  "language_info": {
   "codemirror_mode": {
    "name": "ipython",
    "version": 3
   },
   "file_extension": ".py",
   "mimetype": "text/x-python",
   "name": "python",
   "nbconvert_exporter": "python",
   "pygments_lexer": "ipython3",
   "version": "3.6.9"
  }
 },
 "nbformat": 4,
 "nbformat_minor": 2
}
