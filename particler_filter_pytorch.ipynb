{
 "cells": [
  {
   "cell_type": "code",
   "execution_count": 14,
   "metadata": {},
   "outputs": [],
   "source": [
    "import torch\n",
    "import numpy as np"
   ]
  },
  {
   "cell_type": "code",
   "execution_count": 162,
   "metadata": {},
   "outputs": [
    {
     "data": {
      "text/plain": [
       "False"
      ]
     },
     "execution_count": 162,
     "metadata": {},
     "output_type": "execute_result"
    }
   ],
   "source": [
    "torch.cuda.is_available()\n"
   ]
  },
  {
   "cell_type": "code",
   "execution_count": 57,
   "metadata": {},
   "outputs": [],
   "source": [
    "def create_gaussian_particles(mean, std, N):\n",
    "    particles = torch.empty((N, 3))\n",
    "    particles[:, 0] = mean[0] + (torch.randn(N) * std[0])\n",
    "    particles[:, 1] = mean[1] + (torch.randn(N) * std[1])\n",
    "    particles[:, 2] = mean[2] + (torch.randn(N) * std[2])\n",
    "    particles[:, 2] %= 2 * np.pi\n",
    "    return particles"
   ]
  },
  {
   "cell_type": "code",
   "execution_count": 52,
   "metadata": {},
   "outputs": [
    {
     "data": {
      "text/plain": [
       "tensor(-2.8379)"
      ]
     },
     "execution_count": 52,
     "metadata": {},
     "output_type": "execute_result"
    }
   ],
   "source": [
    "torch.distributions.multivariate_normal.MultivariateNormal(particles[0, 0:2], covariance_matrix=torch.diag(torch.FloatTensor([1,1]))).log_prob(torch.FloatTensor([1,1]))"
   ]
  },
  {
   "cell_type": "code",
   "execution_count": 43,
   "metadata": {},
   "outputs": [
    {
     "data": {
      "text/plain": [
       "tensor([1., 1.])"
      ]
     },
     "execution_count": 43,
     "metadata": {},
     "output_type": "execute_result"
    }
   ],
   "source": [
    "torch.FloatTensor([1,1])"
   ]
  },
  {
   "cell_type": "code",
   "execution_count": 54,
   "metadata": {},
   "outputs": [],
   "source": [
    "def update(particles, weights, z, R, landmarks):\n",
    "    for i, landmark in enumerate(landmarks):\n",
    "        distance = torch.norm(particles[:, 0:2] - landmark, dim=1)\n",
    "        weigths *= torch.FloatTensor(10).pow(torch.distributions.multivariate_normal.MultivariateNormal(distance, covariance_matrix=R).log_prob(z[i]))\n",
    "\n",
    "    weights += torch.Tensor([1.e-300])     # avoid round-off to zero\n",
    "    weights /= sum(weights) # normalize"
   ]
  },
  {
   "cell_type": "code",
   "execution_count": 187,
   "metadata": {},
   "outputs": [],
   "source": [
    "def predict(particles, u, std, dt=torch.Tensor([1.])):\n",
    "    \"\"\" move according to control input u (heading change, velocity)\n",
    "    with noise Q (std heading change, std velocity)`\"\"\"\n",
    "\n",
    "    N = len(particles)\n",
    "    # update heading\n",
    "    particles[:, 2] += u[0] + (torch.randn(N) * std[0])\n",
    "    particles[:, 2] %= torch.Tensor([2 * np.pi])\n",
    "\n",
    "    # move in the (noisy) commanded direction\n",
    "    dist = (u[1] * dt) + (torch.randn(N) * std[1])\n",
    "    particles[:, 0] += torch.cos(particles[:, 2]) * dist\n",
    "    particles[:, 1] += torch.sin(particles[:, 2]) * dist\n",
    "    return particles"
   ]
  },
  {
   "cell_type": "code",
   "execution_count": 144,
   "metadata": {},
   "outputs": [],
   "source": [
    "def estimate(particles, weights):\n",
    "    \"\"\"returns mean and variance of the weighted particles\"\"\"\n",
    "\n",
    "    pos = particles[:, 0:2]\n",
    "    mean = torch.sum(torch.mul(pos,weights),dim=0)/torch.sum(weights)\n",
    "    var = torch.sum(torch.mul((pos - mean).pow(2),weights),dim=0)/torch.sum(weights)\n",
    "    return mean, var"
   ]
  },
  {
   "cell_type": "code",
   "execution_count": 229,
   "metadata": {},
   "outputs": [],
   "source": [
    "def neff(weights):\n",
    "    return 1. / torch.sum(torch.mul(weights,weights))"
   ]
  },
  {
   "cell_type": "code",
   "execution_count": 230,
   "metadata": {},
   "outputs": [
    {
     "data": {
      "text/plain": [
       "tensor(0.0005)"
      ]
     },
     "execution_count": 230,
     "metadata": {},
     "output_type": "execute_result"
    }
   ],
   "source": [
    "N = 30000\n",
    "particles = create_gaussian_particles([4,3,1],[1,2,1], N)\n",
    "weights = torch.ones(N,1)* 0.25\n",
    "estimate(particles, weights)\n",
    "neff(weights)"
   ]
  }
 ],
 "metadata": {
  "kernelspec": {
   "display_name": "Python 3",
   "language": "python",
   "name": "python3"
  },
  "language_info": {
   "codemirror_mode": {
    "name": "ipython",
    "version": 3
   },
   "file_extension": ".py",
   "mimetype": "text/x-python",
   "name": "python",
   "nbconvert_exporter": "python",
   "pygments_lexer": "ipython3",
   "version": "3.6.9"
  }
 },
 "nbformat": 4,
 "nbformat_minor": 2
}
